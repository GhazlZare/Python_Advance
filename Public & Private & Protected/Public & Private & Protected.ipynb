{
 "cells": [
  {
   "cell_type": "markdown",
   "id": "fb7a8054",
   "metadata": {},
   "source": [
    "<div style=\"color: white;padding-top:18px;text-align:center;background-color:#8B008B;border-radius:15px;border: 1px solid white;\"> \n",
    "    <h3>Exercise 19 (score:120 + 50)</h3>\n",
    "</div>"
   ]
  },
  {
   "cell_type": "markdown",
   "id": "bd5458df",
   "metadata": {},
   "source": [
    "<div style=\"color: black;font-family:Georgia;padding-top:18px;text-align:left;background-color:lightskyblue;border-radius:15px;border: 2px solid cornflowerblue;\">\n",
    "    <h4>Question 01 (Encapsulation)(150):</h4>\n",
    "    <p>Design a class called BankAccount with three attributes:</p> \n",
    "    <p>accountNumber (public), balance (protected), password (private).</p>\n",
    "<li>In the BankAccount class, write methods to get and set the balance and password attributes, ensuring proper access control by using getters and setters where necessary.</li>\n",
    "<li>Create a subclass called SavingsAccount, which should try to access the balance and password attributes directly. After encountering access issues, modify the subclass to use the getter and setter methods to access these attributes.</li>\n",
    "<li>Finally, create an object of the BankAccount class and try to access and print the accountNumber, balance, and password attributes directly. Use the getter and setter methods when necessary for accessing the balance and password or changing them.</li> \n",
    "<p>Write comment for:</p>\n",
    "\n",
    "<ul>What happens when accessing each attribute directly.</ul>\n",
    "<ul>Why it is necessary to use getters and setters for certain attributes.</ul>\n",
    "    \n",
    "</div>"
   ]
  },
  {
   "cell_type": "code",
   "execution_count": 1,
   "id": "99937553-2a26-4787-b365-d46f41243c5e",
   "metadata": {},
   "outputs": [
    {
     "name": "stdout",
     "output_type": "stream",
     "text": [
      "123\n",
      "50000\n",
      "9128\n",
      "{'account_num': 123, '_balance': 50000, '_BankAccount__password': 9128}\n"
     ]
    }
   ],
   "source": [
    "class BankAccount:\n",
    "    def __init__(self, account_num, balance, password):\n",
    "        self.account_num = account_num\n",
    "        self._balance = balance\n",
    "        self.__password = password\n",
    "\n",
    "    @property\n",
    "    def balance(self):\n",
    "        return self._balance\n",
    "    \n",
    "    @property\n",
    "    def password(self):\n",
    "        return self.__password\n",
    "    \n",
    "    @balance.setter\n",
    "    def balance(self, value):\n",
    "        if value >= 0:\n",
    "            self._balance = value\n",
    "        else:\n",
    "            print(\"Not in range\")\n",
    "\n",
    "    @password.setter\n",
    "    def password(self, new_password):\n",
    "        self.__password = new_password\n",
    "\n",
    "class SavingAccounts(BankAccount):\n",
    "    def __init__(self, account_num, balance, password):\n",
    "        super().__init__(account_num, balance, password)\n",
    "    \n",
    "    def try_direct_access(self):\n",
    "        print(self.account_num)  # This will work as it's public\n",
    "        \n",
    "        try:\n",
    "            print(self._balance)  # This will work as it's protected\n",
    "        except AttributeError as e:\n",
    "            print(\"Access denied:\", e)\n",
    "        \n",
    "        try:\n",
    "            print(self.__password)  # This will fail as it's private\n",
    "        except AttributeError as e:\n",
    "            print(\"Access denied:\", e)\n",
    "    \n",
    "    def access_by_methods(self):\n",
    "        print(self.balance)  # Accessing protected attribute with property\n",
    "        print(self.password)  # Accessing private attribute with property\n",
    "\n",
    "bank_account1 = BankAccount(123, 50000, 9128)\n",
    "print(bank_account1.account_num)  # Public attribute, accessible directly\n",
    "print(bank_account1.balance)  # Protected attribute, accessed via property\n",
    "print(bank_account1.password)  # Private attribute, accessed via property\n",
    "print(bank_account1.__dict__)"
   ]
  },
  {
   "cell_type": "markdown",
   "id": "d05c947f",
   "metadata": {},
   "source": [
    "<div style=\"color: white;padding-top:18px;text-align:center;background-color:#8B008B;border-radius:15px;border: 1px solid white;\"> \n",
    "    <h3>Exercise 20 (score:250 + 50)</h3>\n",
    "</div>"
   ]
  },
  {
   "cell_type": "markdown",
   "id": "34326ff6",
   "metadata": {},
   "source": [
    "<div style=\"color: black;font-family:Georgia;padding-top:18px;text-align:left;background-color:lightskyblue;border-radius:15px;border: 2px solid cornflowerblue;\">\n",
    "    <h4>Question 01(OOP) (Project)(180):</h4>\n",
    "    <p>Create a Python project that involves a class named BankAccount with the following attributes and methods:</p>\n",
    "    <p> Attributes:</p>\n",
    "    <li>account_holder: The name of the account holder.</li>\n",
    "    <li>balance: The current balance of the account.</li>\n",
    "    <li>account_number: A unique numeric identifier for the account.</li>\n",
    "<p> Methods:<p>\n",
    "<li>deposit(amount): Adds the specified amount to the account balance.</li>\n",
    "<li> withdraw(amount): Deducts the specified amount from the balance. If the amount exceeds the balance, it should raise a custom exception InsufficientFundsError.<li>\n",
    "<li>check_balance(): Prints the current balance.</li>\n",
    "<li>transfer_to(another_account, amount): Transfers a specified amount to another account, reducing the balance from the current account and adding it to another_account. If the balance is insufficient, raise the InsufficientFundsError.</li>\n",
    "<p>Additionally, implement a custom exception class named InsufficientFundsError that is raised whenever a withdrawal or transfer operation exceeds the available balance.</p>\n",
    "</div>"
   ]
  },
  {
   "cell_type": "code",
   "execution_count": null,
   "id": "8e03d1e3",
   "metadata": {},
   "outputs": [
    {
     "name": "stdout",
     "output_type": "stream",
     "text": [
      "1100\n",
      "2300\n"
     ]
    }
   ],
   "source": [
    "class InsufficientFundsError(Exception):\n",
    "    def __init__(self, msg=\"The amount is exceeding your balance!\"):\n",
    "        self.msg = msg \n",
    "        super().__init__(self.msg)\n",
    "\n",
    "class BankAccounts:\n",
    "    accounts = {}\n",
    "    def __init__(self, holder, balance, account_num):\n",
    "        self.account_holder = holder\n",
    "        self.balance = balance\n",
    "        self.account_num = account_num\n",
    "        BankAccounts.accounts[account_num] = self\n",
    "\n",
    "    def deposit(self, amount):\n",
    "            if amount > 0:\n",
    "                self.balance += amount\n",
    "            else:\n",
    "                raise InsufficientFundsError(\"Deposit amount must be positive\")\n",
    "\n",
    "    def transfer_to(self, another_account, amount):\n",
    "        if self.balance >= amount:\n",
    "            self.balance -= amount\n",
    "            if another_account in BankAccounts.accounts:\n",
    "                BankAccounts.accounts[another_account].deposit(amount)  \n",
    "            else:\n",
    "                raise InsufficientFundsError(\"Account number not valid\")      \n",
    "        else:\n",
    "            raise InsufficientFundsError\n",
    "\n",
    "    def withdra(self, amount):\n",
    "        if self.balance >= amount:\n",
    "            self.balance -= amount\n",
    "        else:\n",
    "            raise InsufficientFundsError\n",
    "\n",
    "    def check_balance(self):\n",
    "        print(f\"The current balance is: {self.balance}\")\n",
    "\n",
    "account1 = BankAccounts(\"Ghazal\", 1000, 123)\n",
    "account2 = BankAccounts(\"Sara\", 2000, 321)\n",
    "account1.deposit(800)\n",
    "account1.withdra(400)\n",
    "account1.transfer_to(321, 300)\n",
    "print(account1.balance)\n",
    "print(account2.balance)"
   ]
  },
  {
   "cell_type": "markdown",
   "id": "293056e3",
   "metadata": {},
   "source": [
    "<h2 style=\"color: blue:; background-color: purple\">Don't give up on your dreams :)</h2>"
   ]
  }
 ],
 "metadata": {
  "kernelspec": {
   "display_name": "Python 3",
   "language": "python",
   "name": "python3"
  },
  "language_info": {
   "codemirror_mode": {
    "name": "ipython",
    "version": 3
   },
   "file_extension": ".py",
   "mimetype": "text/x-python",
   "name": "python",
   "nbconvert_exporter": "python",
   "pygments_lexer": "ipython3",
   "version": "3.12.0"
  }
 },
 "nbformat": 4,
 "nbformat_minor": 5
}
