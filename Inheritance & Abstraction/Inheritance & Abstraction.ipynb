{
 "cells": [
  {
   "cell_type": "markdown",
   "id": "fb7a8054",
   "metadata": {},
   "source": [
    "<div style=\"color: white;padding-top:18px;text-align:center;background-color:#8B008B;border-radius:15px;border: 1px solid white;\"> \n",
    "    <h3>Exercise 17 (score:120 + 50)</h3>\n",
    "</div>"
   ]
  },
  {
   "cell_type": "markdown",
   "id": "bd5458df",
   "metadata": {},
   "source": [
    "<div style=\"color: black;font-family:Georgia;padding-top:18px;text-align:left;background-color:lightskyblue;border-radius:15px;border: 2px solid cornflowerblue;\">\n",
    "    <h4>Question 01 (Inheritance)(120):</h4>\n",
    "    <p>\n",
    "        Using four different examples, demonstrate all ofthe inheritance types that you have learned.\n",
    "        </p> \n",
    "<li>Single Inheritance</li>\n",
    "<li>Multiple Inheritance</li>\n",
    "<li>Multilevel Inheritance</li> \n",
    "<li>Hierarchical Inheritance</li>\n",
    "    \n",
    "</div>"
   ]
  },
  {
   "cell_type": "markdown",
   "id": "0d48ac83",
   "metadata": {},
   "source": [
    "### Single Inheritance"
   ]
  },
  {
   "cell_type": "code",
   "execution_count": 2,
   "id": "49f0e92b",
   "metadata": {},
   "outputs": [
    {
     "name": "stdout",
     "output_type": "stream",
     "text": [
      "white, 134, Sara, 2024\n"
     ]
    }
   ],
   "source": [
    "class Bag:\n",
    "    def __init__(self, color, id_):\n",
    "        self.color = color\n",
    "        self.id_ = id_\n",
    "\n",
    "    def __str__(self):\n",
    "        return f\"{self.color}, {self.id_}\"\n",
    "    \n",
    "class Bought_bags(Bag):\n",
    "    def __init__(self, color, id_, client, date):\n",
    "        super().__init__(color, id_)\n",
    "        self.client = client\n",
    "        self.date = date\n",
    "\n",
    "    def __str__(self):\n",
    "        return f\"{super().__str__()}, {self.client}, {self.date}\"\n",
    "    \n",
    "bag1 = Bought_bags(\"white\", 134, \"Sara\", \"2024\")\n",
    "print(bag1)"
   ]
  },
  {
   "cell_type": "markdown",
   "id": "9bb80735",
   "metadata": {},
   "source": [
    "### Multiple Inheritance"
   ]
  },
  {
   "cell_type": "code",
   "execution_count": 8,
   "id": "5e29e9b0",
   "metadata": {},
   "outputs": [
    {
     "name": "stdout",
     "output_type": "stream",
     "text": [
      "brown, tiny, pink, long, None, brown, None\n",
      "my child eyes are brown like me\n"
     ]
    }
   ],
   "source": [
    "class Mother:\n",
    "    def __init__(self, eyes, nose, lips, hair) -> None:\n",
    "        self.eyes = eyes\n",
    "        self.nose = nose\n",
    "        self.lips = lips\n",
    "        self.hair = hair\n",
    "\n",
    "    def __str__(self):\n",
    "        return f\"{self.eyes}, {self.nose}, {self.lips}, {self.hair}\"\n",
    "    \n",
    "    def people_say(self):\n",
    "        print(f\"my child eyes are {self.eyes} like me\")\n",
    "    \n",
    "class Aunt:\n",
    "    def __init__(self, eyes,body, style):\n",
    "        self.body = body\n",
    "        self.eyes = eyes\n",
    "        self.style = style\n",
    "\n",
    "    def __str__(self):\n",
    "        return f\"{self.body}, {self.eyes}, {self.style}\"\n",
    "    \n",
    "    def people_say(self):\n",
    "        print(f\"My niece eye color is {self.eyes} like me\")\n",
    "\n",
    "class Child(Mother):\n",
    "    def __init__(self, eyes, nose, lips, hair):\n",
    "        super().__init__(eyes, nose, lips, hair)\n",
    "        Aunt.__init__(self, eyes, body=None, style=None)\n",
    "\n",
    "    def __str__(self):\n",
    "        return f\"{super().__str__()}, {Aunt.__str__(self)}\"\n",
    "    \n",
    "child1 = Child(\"brown\", \"tiny\", \"pink\", \"long\")\n",
    "print(child1)\n",
    "child1.people_say()\n"
   ]
  },
  {
   "cell_type": "markdown",
   "id": "e820e283",
   "metadata": {},
   "source": [
    "### Multilevel Inheritance"
   ]
  },
  {
   "cell_type": "code",
   "execution_count": 1,
   "id": "2f919e7a",
   "metadata": {},
   "outputs": [
    {
     "name": "stdout",
     "output_type": "stream",
     "text": [
      "Name : Ghazal, LastName: Zare, Age: 20, ID : 55762, Major: Computer\n",
      "Name : Zahra, LastName: Bakhshande, Age: 27, Hours: 4.5, Salary: 1000\n"
     ]
    }
   ],
   "source": [
    "class Person:\n",
    "    def __init__(self, name, lastname, age):\n",
    "        self.name = name\n",
    "        self.lastname = lastname\n",
    "        self.age = age\n",
    "\n",
    "    def __str__(self):\n",
    "        return f\"Name : {self.name}, LastName: {self.lastname}, Age: {self.age}\"\n",
    "\n",
    "class Student(Person):\n",
    "    def __init__(self, name, lastname, age, id_, major):\n",
    "        super().__init__(name, lastname, age)\n",
    "        self.id_ = id_\n",
    "        self.major = major\n",
    "\n",
    "    def __str__(self):\n",
    "        return f\"{super().__str__()}, ID : {self.id_}, Major: {self.major}\"\n",
    "    \n",
    "class Teacher(Person):\n",
    "    def __init__(self, name, lastname, age, work_hours, salary):\n",
    "        super().__init__(name, lastname, age)\n",
    "        self.work_hours = work_hours\n",
    "        self.salary = salary\n",
    "\n",
    "    def __str__(self):\n",
    "        return f\"{super().__str__()}, Hours: {self.work_hours}, Salary: {self.salary}\"\n",
    "        \n",
    "st1 = Student(\"Ghazal\", \"Zare\", 20, 55762, \"Computer\")\n",
    "techer1 = Teacher(\"Zahra\", \"Bakhshande\", 27, 4.5, 1000)\n",
    "print(st1)\n",
    "print(techer1)\n",
    "        "
   ]
  },
  {
   "cell_type": "markdown",
   "id": "23777bd3",
   "metadata": {},
   "source": [
    "### Hierarchichal Inheritance"
   ]
  },
  {
   "cell_type": "code",
   "execution_count": 2,
   "id": "9f366376",
   "metadata": {},
   "outputs": [
    {
     "name": "stdout",
     "output_type": "stream",
     "text": [
      "{'name': 'jhony', 'food': 'Banan', 'age': 4, 'height': 2.5}\n",
      "These giraffs are 2.5 tall\n",
      "{'name': 'khersy', 'food': 'Fish', 'age': 2, 'sleep': 10}\n",
      "These bears sleep 10 hours a day.\n"
     ]
    }
   ],
   "source": [
    "class Zoo:\n",
    "    def __init__(self, name, food, age):\n",
    "        self.name = name\n",
    "        self.food = food\n",
    "        self.age = age\n",
    "\n",
    "    def __str__(self) -> str:\n",
    "        return f\"{self.name}, {self.food}, {self.age}\"\n",
    "    \n",
    "class Giraff(Zoo):\n",
    "    def __init__(self, name, food, age, height):\n",
    "        super().__init__(name, food, age)\n",
    "        self.height = height\n",
    "\n",
    "    def show_details(self):\n",
    "        print(f\"These giraffs are {self.height} tall\")\n",
    "\n",
    "class Bear(Zoo):\n",
    "    def __init__(self, name, food, age, sleep):\n",
    "        super().__init__(name, food, age)\n",
    "        self.sleep = sleep\n",
    "\n",
    "    def show_details(self):\n",
    "        print(f\"These bears sleep {self.sleep} hours a day.\")\n",
    "\n",
    "gir1 = Giraff(\"jhony\", \"Banan\", 4, 2.5)\n",
    "print(gir1.__dict__)\n",
    "gir1.show_details()\n",
    "bear1 = Bear(\"khersy\", \"Fish\", 2, 10)\n",
    "print(bear1.__dict__)\n",
    "bear1.show_details()\n",
    "    \n"
   ]
  },
  {
   "cell_type": "markdown",
   "id": "d05c947f",
   "metadata": {},
   "source": [
    "<div style=\"color: white;padding-top:18px;text-align:center;background-color:#8B008B;border-radius:15px;border: 1px solid white;\"> \n",
    "    <h3>Exercise 18 (score:180 + 50)</h3>\n",
    "</div>"
   ]
  },
  {
   "cell_type": "markdown",
   "id": "34326ff6",
   "metadata": {},
   "source": [
    "<div style=\"color: black;font-family:Georgia;padding-top:18px;text-align:left;background-color:lightskyblue;border-radius:15px;border: 2px solid cornflowerblue;\">\n",
    "    <h4>Question 01 (Abstraction)(180):</h4>\n",
    "    <p>\n",
    "     Develop a library management system in Python with an abstract base class and specific\n",
    "subclasses using abstraction and polymorphism.\n",
    "    </p>\n",
    "    <p>Abstract Base Class - LibraryItem:</p>\n",
    "    <li>Attributes: ID,title, author.</li>\n",
    "<li>Abstract Method - display_details: Declare withoutimplementation. Subclasses will provide specific\n",
    "details.</li>\n",
    "<p>Subclass - Book:<p>\n",
    "<li>Additional Attributes: pages, genre</li>\n",
    "<li>display_details: Implementto print book's ID,title, author, pages, and genre<li>\n",
    "<p>Subclass - Magazine:</p>\n",
    "<li>Additional Attributes: issue_number, publication_date.</li>\n",
    "<li>display_details: Implementto print magazine's ID,title, issue number, and publication date.</li>\n",
    "<p>Subclass - Article:<p>\n",
    "<li>Additional Attributes: publication_date, summary.</li>\n",
    "<li>display_details: Implementto print article's ID,title, publication date, and summary.</li>\n",
    "</div>"
   ]
  },
  {
   "cell_type": "code",
   "execution_count": 10,
   "id": "2dc85e7c",
   "metadata": {},
   "outputs": [
    {
     "name": "stdout",
     "output_type": "stream",
     "text": [
      "Title: B1, ID: 114, Author: A1, Pages: 500, Genre: G1\n",
      "Title: M1, ID: 8567, Author: A2, issue_number: 28, publication_date: 12/4/2024\n",
      "Title: article1, ID: 98545, Author: A3, publication_date: 5/6/2022, summary: summary1\n"
     ]
    }
   ],
   "source": [
    "from abc import ABC, abstractmethod\n",
    "class LibraryItems(ABC):\n",
    "    def __init__(self, id_, title, author):\n",
    "        self.id_ = id_\n",
    "        self.title = title\n",
    "        self.author = author\n",
    "\n",
    "    @abstractmethod\n",
    "    def display_detals(self):\n",
    "        pass\n",
    "\n",
    "class Book(LibraryItems):\n",
    "    def __init__(self, id_, title, author, pages, genre):\n",
    "        super().__init__(id_, title, author)\n",
    "        self.pages = pages\n",
    "        self.genre = genre\n",
    "\n",
    "    def display_detals(self):\n",
    "        print(f\"Title: {self.title}, ID: {self.id_}, Author: {self.author}, Pages: {self.pages}, Genre: {self.genre}\")\n",
    "    \n",
    "class Magazine(LibraryItems):\n",
    "    def __init__(self, id_, title, author, issue_number, publication_date):\n",
    "        super().__init__(id_, title, author)\n",
    "        self.issue_number = issue_number\n",
    "        self.publication_date = publication_date\n",
    "    def display_detals(self):\n",
    "        print(f\"Title: {self.title}, ID: {self.id_}, Author: {self.author}, issue_number: {self.issue_number}, publication_date: {self.publication_date}\")\n",
    "    \n",
    "class Article(LibraryItems):\n",
    "    def __init__(self, id_, title, author, publication_date, summary):\n",
    "        super().__init__(id_, title, author)\n",
    "        self.publication_date = publication_date\n",
    "        self.summary = summary\n",
    "\n",
    "    def display_detals(self):\n",
    "        print(f\"Title: {self.title}, ID: {self.id_}, Author: {self.author}, publication_date: {self.publication_date}, summary: {self.summary}\")\n",
    "\n",
    "book1 = Book(114, \"B1\", \"A1\", 500, \"G1\")\n",
    "book1.display_detals()\n",
    "mag1 = Magazine(8567, \"M1\", \"A2\", 28, \"12/4/2024\")\n",
    "mag1.display_detals()\n",
    "arti1 = Article(98545, \"article1\", \"A3\", \"5/6/2022\", \"summary1\")\n",
    "arti1.display_detals()"
   ]
  },
  {
   "cell_type": "markdown",
   "id": "293056e3",
   "metadata": {},
   "source": [
    "<h2 style=\"color: blue:; background-color: purple\">Don't give up on your dreams :)</h2>"
   ]
  }
 ],
 "metadata": {
  "kernelspec": {
   "display_name": "Python 3",
   "language": "python",
   "name": "python3"
  },
  "language_info": {
   "codemirror_mode": {
    "name": "ipython",
    "version": 3
   },
   "file_extension": ".py",
   "mimetype": "text/x-python",
   "name": "python",
   "nbconvert_exporter": "python",
   "pygments_lexer": "ipython3",
   "version": "3.12.0"
  }
 },
 "nbformat": 4,
 "nbformat_minor": 5
}
